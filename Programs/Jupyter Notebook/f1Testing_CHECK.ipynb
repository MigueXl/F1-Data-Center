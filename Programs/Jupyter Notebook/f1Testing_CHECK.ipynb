{
 "cells": [
  {
   "cell_type": "markdown",
   "metadata": {},
   "source": [
    "### __LIBRARIES IMPORTATION__"
   ]
  },
  {
   "cell_type": "code",
   "execution_count": null,
   "metadata": {},
   "outputs": [],
   "source": [
    "import fastf1 as ff1\n",
    "import numpy as np\n",
    "import pandas as pd\n",
    "import pickle\n",
    "import os"
   ]
  },
  {
   "cell_type": "markdown",
   "metadata": {},
   "source": [
    "### __GENERAL DATA__"
   ]
  },
  {
   "cell_type": "code",
   "execution_count": null,
   "metadata": {},
   "outputs": [],
   "source": [
    "year = 2022\n",
    "circuit = 'Bahrein'\n",
    "test_number = 2\n",
    "session = 1"
   ]
  },
  {
   "cell_type": "markdown",
   "metadata": {},
   "source": [
    "#### __STEP 0:__ Data Generation and pkl creation"
   ]
  },
  {
   "cell_type": "code",
   "execution_count": null,
   "metadata": {},
   "outputs": [],
   "source": [
    "# ff1.Cache.enable_cache('C:/Users/migue/Documents/F1 Data Center/Datos/fastf1_Cache')\n",
    "# test = ff1.get_testing_session(2023,1,2)\n",
    "# test.load()"
   ]
  },
  {
   "cell_type": "markdown",
   "metadata": {},
   "source": [
    "#### __STEP 1:__ Data Transformation into Pandas DF"
   ]
  },
  {
   "cell_type": "code",
   "execution_count": null,
   "metadata": {},
   "outputs": [],
   "source": [
    "path = path =  f'C:\\\\Users\\\\migue\\\\Documents\\\\F1 Data Center\\\\Datos\\\\fastf1_Testing_Timing_Data\\\\{year}\\\\timing_data_t{test_number}_s{session}.ff1pkl'\n",
    "with open(path, 'rb') as f:\n",
    "    data = pickle.load(f)\n",
    "\n",
    "dataTuple = data['data'][0]\n",
    "\n",
    "df = pd.DataFrame(dataTuple)\n",
    "\n",
    "print(df.shape)\n",
    "\n",
    "#Eliminar Datos Corrompidos\n",
    "nanDF = df.isna()\n",
    "df['TotalNan'] = nanDF.sum(axis=1) \n",
    "\n",
    "df = df.loc[(df['TotalNan'] <= 2), :]\n",
    "df = df.drop(['TotalNan'], axis=1)\n",
    "df = df.reset_index(drop=True)\n",
    "\n",
    "#BUGS\n",
    "df = df.loc[df['Driver'].astype(int) < 100, :]\n",
    "\n",
    "colNames: list = df.columns.values.tolist() #Column names\n",
    "print(colNames)"
   ]
  },
  {
   "cell_type": "code",
   "execution_count": null,
   "metadata": {},
   "outputs": [],
   "source": [
    "display(df)"
   ]
  },
  {
   "cell_type": "markdown",
   "metadata": {},
   "source": [
    "#### __STEP 2:__ Pandas Modification(Data Transformation, Nan Values, remove unnecessary Columns...)"
   ]
  },
  {
   "cell_type": "code",
   "execution_count": null,
   "metadata": {},
   "outputs": [],
   "source": [
    "# Unnecessary Columns Removement\n",
    "df = df.drop(['PitOutTime', 'PitInTime', 'Sector1SessionTime','Sector2SessionTime','Sector3SessionTime', 'SpeedFL','IsPersonalBest'], axis=1)\n",
    "df.head()"
   ]
  },
  {
   "cell_type": "code",
   "execution_count": null,
   "metadata": {},
   "outputs": [],
   "source": [
    "import sys\n",
    "path = \"/Users/migue/Documents/F1 Data Center/F1-Data-Center/Programs/Python/\"\n",
    "sys.path.append(path)\n",
    "import multidata\n",
    "\n",
    "# Transform Driver Number into Drivers Name\n",
    "def transformNum(row, year = year):\n",
    "    numb = row['Driver'] \n",
    "    return multidata.numberToNames(year, numb).name\n",
    "\n",
    "df['Driver'] = df.apply(transformNum, axis=1)\n",
    "# display(df)"
   ]
  },
  {
   "cell_type": "code",
   "execution_count": null,
   "metadata": {},
   "outputs": [],
   "source": [
    "#Transform time instances into miliseconds except 'Time' which will be transformed into minutes\n",
    "\n",
    "def toMins(row):\n",
    "    try: \n",
    "        return row['Time'].total_seconds() / 60\n",
    "    except:\n",
    "        return np.nan\n",
    "\n",
    "def toMiliscs(elem):\n",
    "    try: \n",
    "        return elem.total_seconds() *1000\n",
    "    except:\n",
    "        return np.nan\n",
    "\n",
    "df['Time'] = df.apply(toMins, axis=1)\n",
    "df['LapTime'] = df['LapTime'].apply(toMiliscs)\n",
    "df['Sector1Time'] = df['Sector1Time'].apply(toMiliscs)\n",
    "df['Sector2Time'] = df['Sector2Time'].apply(toMiliscs)\n",
    "df['Sector3Time'] = df['Sector3Time'].apply(toMiliscs)\n",
    "display(df)"
   ]
  },
  {
   "cell_type": "code",
   "execution_count": null,
   "metadata": {},
   "outputs": [],
   "source": [
    "# path = \"C:\\\\Users\\\\migue\\\\Documents\\\\F1 Data Center\\\\Datos\\\\PreSeasonTesting\\\\2022\\\\Test2_Ses1.csv\"\n",
    "# df.to_csv(path, index=False)"
   ]
  },
  {
   "cell_type": "code",
   "execution_count": null,
   "metadata": {},
   "outputs": [],
   "source": [
    "colsName = ['Driver', 'Team', 'Year', 'Circuit', 'Test_number', 'Session', 'Total_PitStops', 'Total_Laps', 'Fastest_Lap', 'Qualy_Times', 'Total_Qualy_Laps', 'Avg_Qualy_Track_Time', \n",
    "'Avg_Qualy_Speed1', 'Avg_Qualy_Speed2', 'Avg_Qualy_SpeedST', 'Sector1_Qualy', 'Total_S1Q_Laps', 'Sector2_Qualy', 'Total_S2Q_Laps', 'Sector3_Qualy', 'Total_S3Q_Laps', \n",
    "'Race_Times', 'Total_Race_Laps', 'Avg_Race_Track_Time', 'Avg_Race_Speed1', 'Avg_Race_Speed2', 'Avg_Race_SpeedST', 'Sector1_Race', 'Total_S1R_Laps', 'Sector2_Race', 'Total_S2R_Laps',\n",
    "'Sector3_Race','Total_S3R_Laps', 'FinalSeasonResult']\n",
    "\n",
    "drivers = df['Driver'].unique()\n",
    "rows = len(drivers)\n",
    "data = np.empty((rows, len(colsName)),  dtype='object')"
   ]
  },
  {
   "cell_type": "code",
   "execution_count": null,
   "metadata": {},
   "outputs": [],
   "source": [
    "def returnQualy_RaceLaps(times: np.array, mode: str = 'tt'):\n",
    "    qualyLaps = []\n",
    "    qualyIndeces = []\n",
    "    raceLaps = []\n",
    "    raceIndices = []\n",
    "    minTime = np.nanmin(times)\n",
    "    qualyTop = (minTime * 102)/100\n",
    "    raceTop = (minTime * 110)/100\n",
    "    for t,time in enumerate(times):\n",
    "        if time != np.nan:\n",
    "            if time <= qualyTop:\n",
    "                qualyLaps.append(time)\n",
    "                qualyIndeces.append(t)\n",
    "            elif time <= raceTop:\n",
    "                raceLaps.append(time)\n",
    "                raceIndices.append(t)\n",
    "\n",
    "    if mode == 'tt':\n",
    "        if len(qualyLaps) == 0 and len(raceLaps) == 0:\n",
    "            return [0], [0], [0], [0]\n",
    "        elif len(raceLaps) == 0:\n",
    "            return np.array(qualyLaps), qualyIndeces, [0], [0]\n",
    "        else:\n",
    "            return np.array(qualyLaps), qualyIndeces, np.array(raceLaps), raceIndices\n",
    "    else: \n",
    "        if len(qualyLaps) == 0 and len(raceLaps) == 0:\n",
    "            return [0], [0]\n",
    "        elif len(raceLaps) == 0:\n",
    "            return np.array(qualyLaps), [0]\n",
    "        else:\n",
    "            return np.array(qualyLaps), np.array(raceLaps)"
   ]
  },
  {
   "cell_type": "code",
   "execution_count": null,
   "metadata": {},
   "outputs": [],
   "source": [
    "teams = multidata.f1_teams(drivers, year, 'Default', 'Default').equipos\n",
    "teams = multidata.lastTeamName(teams).correct\n",
    "for d,driv in enumerate(drivers):\n",
    "    data[d,colsName.index('Driver')] = driv\n",
    "    data[d,colsName.index('Team')] = teams[d]\n",
    "    data[d,colsName.index('Year')] = year\n",
    "    data[d,colsName.index('Circuit')] = circuit\n",
    "    data[d,colsName.index('Test_number')] = test_number\n",
    "    data[d,colsName.index('Session')] = session\n",
    "\n",
    "    dfDriv = df.loc[(df['Driver'] == driv), :] \n",
    "    data[d,colsName.index('Total_PitStops')] = dfDriv['NumberOfPitStops'].max()\n",
    "    data[d,colsName.index('Total_Laps')] = dfDriv['NumberOfLaps'].max()\n",
    "\n",
    "    allTimes = dfDriv['LapTime'].to_numpy()\n",
    "    qualyLaps, qualyIndeces, raceLaps, raceIndices = returnQualy_RaceLaps(allTimes)\n",
    "\n",
    "    data[d,colsName.index('Qualy_Times')] = int(np.nanmean(qualyLaps, dtype=np.float64))\n",
    "    data[d,colsName.index('Total_Qualy_Laps')] = len(qualyLaps)\n",
    "    dfDrivQuali = dfDriv.iloc[qualyIndeces, :]\n",
    "    data[d,colsName.index('Avg_Qualy_Track_Time')] = int(np.nanmean(dfDrivQuali['Time'].to_numpy()))\n",
    "    data[d,colsName.index('Avg_Qualy_Speed1')] = int(np.nanmean(dfDrivQuali['SpeedI1'].to_numpy()))\n",
    "    data[d,colsName.index('Avg_Qualy_Speed2')] = int(np.nanmean(dfDrivQuali['SpeedI2'].to_numpy()))\n",
    "    data[d,colsName.index('Avg_Qualy_SpeedST')] = int(np.nanmean(dfDrivQuali['SpeedST'].to_numpy()))\n",
    "\n",
    "    data[d,colsName.index('Race_Times')] = int(np.mean(raceLaps, dtype=np.float64))\n",
    "    data[d,colsName.index('Total_Race_Laps')] = len(raceLaps)\n",
    "    dfDrivrace = dfDriv.iloc[raceIndices, :]\n",
    "    data[d,colsName.index('Avg_Race_Track_Time')] = int(np.nanmean(dfDrivrace['Time'].to_numpy()))\n",
    "    data[d,colsName.index('Avg_Race_Speed1')] = int(np.nanmean(dfDrivrace['SpeedI1'].to_numpy()))\n",
    "    data[d,colsName.index('Avg_Race_Speed2')] = int(np.nanmean(dfDrivrace['SpeedI2'].to_numpy()))\n",
    "    data[d,colsName.index('Avg_Race_SpeedST')] = int(np.nanmean(dfDrivrace['SpeedST'].to_numpy()))\n",
    "\n",
    "    s = dfDriv['Sector1Time'].to_numpy()\n",
    "    qualyLaps, raceLaps = returnQualy_RaceLaps(s, mode='s')\n",
    "\n",
    "    data[d,colsName.index('Sector1_Qualy')] = int(np.mean(qualyLaps))\n",
    "    data[d,colsName.index('Total_S1Q_Laps')] = len(qualyLaps)\n",
    "    data[d,colsName.index('Sector1_Race')] = int(np.mean(raceLaps))\n",
    "    data[d,colsName.index('Total_S1R_Laps')] = len(raceLaps)\n",
    "\n",
    "    s = dfDriv['Sector2Time'].to_numpy()\n",
    "    qualyLaps, raceLaps = returnQualy_RaceLaps(s, mode='s')\n",
    "\n",
    "    data[d,colsName.index('Sector2_Qualy')] = int(np.mean(qualyLaps))\n",
    "    data[d,colsName.index('Total_S2Q_Laps')] = len(qualyLaps)\n",
    "    data[d,colsName.index('Sector2_Race')] = int(np.mean(raceLaps))\n",
    "    data[d,colsName.index('Total_S2R_Laps')] = len(raceLaps)\n",
    "\n",
    "    s = dfDriv['Sector3Time'].to_numpy()\n",
    "    qualyLaps, raceLaps = returnQualy_RaceLaps(s, mode='s')\n",
    "\n",
    "    data[d,colsName.index('Sector3_Qualy')] = int(np.mean(qualyLaps))\n",
    "    data[d,colsName.index('Total_S3Q_Laps')] = len(qualyLaps)\n",
    "    data[d,colsName.index('Sector3_Race')] = int(np.mean(raceLaps))\n",
    "    data[d,colsName.index('Total_S3R_Laps')] = len(raceLaps)\n",
    "\n",
    "    data[d,colsName.index('FinalSeasonResult')] = multidata.seasonResult(year,[driv]).finalResult[0]"
   ]
  },
  {
   "cell_type": "code",
   "execution_count": null,
   "metadata": {},
   "outputs": [],
   "source": [
    "# import csv\n",
    "# path =  f'C:\\\\Users\\\\migue\\\\Documents\\\\F1 Data Center\\\\Datos\\\\fastf1_Testing_Timing_Data\\\\{year}'\n",
    "# os.chdir(path)\n",
    "\n",
    "# with open('Test1_Ses1.csv','w+', newline= '') as file:\n",
    "#     writer = csv.writer(file,delimiter=';')\n",
    "#     writer.writerow(colsName)\n",
    "#     writer.writerows(data)\n"
   ]
  },
  {
   "cell_type": "code",
   "execution_count": null,
   "metadata": {},
   "outputs": [],
   "source": [
    "# dfDriv = df.loc[(df['Driver'] == 'Alexander ALBON'), :]\n",
    "# dfDriv['NumberOfLaps'].max()\n",
    "\n",
    "# display(dfDriv)"
   ]
  }
 ],
 "metadata": {
  "kernelspec": {
   "display_name": "Python 3.10.10 64-bit (microsoft store)",
   "language": "python",
   "name": "python3"
  },
  "language_info": {
   "codemirror_mode": {
    "name": "ipython",
    "version": 3
   },
   "file_extension": ".py",
   "mimetype": "text/x-python",
   "name": "python",
   "nbconvert_exporter": "python",
   "pygments_lexer": "ipython3",
   "version": "3.10.10"
  },
  "orig_nbformat": 4,
  "vscode": {
   "interpreter": {
    "hash": "0bd566559a8880e7272aad6319f1a0014c5dfadaf9b377e9b51e0ae3382edc81"
   }
  }
 },
 "nbformat": 4,
 "nbformat_minor": 2
}
