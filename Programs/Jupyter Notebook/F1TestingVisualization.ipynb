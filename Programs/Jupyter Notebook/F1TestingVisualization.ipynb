{
 "cells": [
  {
   "cell_type": "markdown",
   "metadata": {},
   "source": [
    "### __LIBRARIES IMPORTATION__"
   ]
  },
  {
   "cell_type": "code",
   "execution_count": null,
   "metadata": {},
   "outputs": [],
   "source": [
    "import fastf1 as ff1\n",
    "from fastf1 import plotting\n",
    "import matplotlib.pyplot as plt\n",
    "import matplotlib as mpl\n",
    "from matplotlib.collections import LineCollection\n",
    "import fastf1 as ff1\n",
    "import numpy as np\n",
    "import pandas as pd\n",
    "import pickle\n",
    "import os"
   ]
  },
  {
   "cell_type": "markdown",
   "metadata": {},
   "source": [
    "### __GENERAL DATA__"
   ]
  },
  {
   "cell_type": "code",
   "execution_count": null,
   "metadata": {},
   "outputs": [],
   "source": [
    "year = 2023\n",
    "circuit = 'Bahrein'\n",
    "test_number = 1\n",
    "session = 1"
   ]
  },
  {
   "cell_type": "markdown",
   "metadata": {},
   "source": [
    "#### __STEP 0:__ Data Generation and pkl creation"
   ]
  },
  {
   "cell_type": "code",
   "execution_count": null,
   "metadata": {},
   "outputs": [],
   "source": [
    "# ff1.Cache.enable_cache('C:/Users/migue/Documents/F1 Data Center/Datos/fastf1_Cache')\n",
    "# test = ff1.get_testing_session(2023,1,3)\n",
    "# test.load()"
   ]
  },
  {
   "cell_type": "markdown",
   "metadata": {},
   "source": [
    "#### __STEP 1:__ Data Transformation into Pandas DF"
   ]
  },
  {
   "cell_type": "code",
   "execution_count": null,
   "metadata": {},
   "outputs": [],
   "source": [
    "path = f'C:\\\\Users\\\\migue\\\\Documents\\\\F1 Data Center\\\\Datos\\\\fastf1_Testing_Timing_Data\\\\{year}\\\\timing_data_t{test_number}_s{session}.ff1pkl'\n",
    "with open(path, 'rb') as f:\n",
    "    data = pickle.load(f)\n",
    "\n",
    "dataTuple = data['data'][0]\n",
    "\n",
    "df = pd.DataFrame(dataTuple)\n",
    "\n",
    "#Remove Rows with more than 2 Nan Values\n",
    "nanDF = df.isna()\n",
    "df['TotalNan'] = nanDF.sum(axis=1) \n",
    "\n",
    "df = df.loc[(df['TotalNan'] <= 2), :]\n",
    "df = df.drop(['TotalNan'], axis=1)\n",
    "df = df.reset_index(drop=True)\n",
    "\n",
    "\n",
    "#BUGS\n",
    "df = df.loc[df['Driver'].astype(int) < 100, :]\n",
    "\n",
    "print(df.shape)\n",
    "\n",
    "colNames: list = df.columns.values.tolist() #Column names\n",
    "print(colNames)\n",
    "\n",
    "df.head()"
   ]
  },
  {
   "cell_type": "markdown",
   "metadata": {},
   "source": [
    "#### __STEP 2:__ Preprocessing"
   ]
  },
  {
   "cell_type": "code",
   "execution_count": null,
   "metadata": {},
   "outputs": [],
   "source": [
    "df = df.drop(['PitOutTime', 'PitInTime', 'Sector1SessionTime','Sector2SessionTime','Sector3SessionTime','IsPersonalBest'], axis=1)"
   ]
  },
  {
   "cell_type": "code",
   "execution_count": null,
   "metadata": {},
   "outputs": [],
   "source": [
    "import sys\n",
    "path = \"/Users/migue/Documents/F1 Data Center/F1-Data-Center/Programs/Python/\"\n",
    "sys.path.append(path)\n",
    "import multidata\n",
    "\n",
    "# Transform Driver Number into Drivers Name\n",
    "def transformNum(row, year = year):\n",
    "    numb = row['Driver'] \n",
    "    return multidata.numberToNames(year, numb).name\n",
    "\n",
    "df['Driver'] = df.apply(transformNum, axis=1)\n",
    "\n",
    "#Transform time instances into miliseconds except 'Time' which will be transformed into minutes\n",
    "\n",
    "def toMins(row):\n",
    "    try: \n",
    "        return row['Time'].total_seconds() / 60\n",
    "    except:\n",
    "        return np.nan\n",
    "\n",
    "def toMiliscs(elem):\n",
    "    try: \n",
    "        return elem.total_seconds() *1000\n",
    "    except:\n",
    "        return np.nan\n",
    "\n",
    "df['Time'] = df.apply(toMins, axis=1)\n",
    "df['LapTime'] = df['LapTime'].apply(toMiliscs)\n",
    "df['Sector1Time'] = df['Sector1Time'].apply(toMiliscs)\n",
    "df['Sector2Time'] = df['Sector2Time'].apply(toMiliscs)\n",
    "df['Sector3Time'] = df['Sector3Time'].apply(toMiliscs)\n",
    "display(df)"
   ]
  },
  {
   "cell_type": "markdown",
   "metadata": {},
   "source": [
    "TESTING TIME "
   ]
  },
  {
   "cell_type": "code",
   "execution_count": null,
   "metadata": {},
   "outputs": [],
   "source": [
    "def minSecDec(n: int):\n",
    "    if not pd.isna(n):\n",
    "        minutes = int(n//60000)\n",
    "        n = n%60000\n",
    "        sec = int(n//1000)\n",
    "        dec =  int(n%1000)\n",
    "        if sec < 10:\n",
    "            sec = '0'+str(sec)\n",
    "        if dec < 10:\n",
    "            dec = '00'+str(dec)\n",
    "        elif dec < 100:\n",
    "            dec = '0'+str(dec)\n",
    "        string = f'{minutes}:{sec}.{dec}'\n",
    "        return string\n",
    "    else: return n\n",
    "\n",
    "driv = 'Sergio PEREZ'\n",
    "dfDriv = df.loc[(df['Driver'] == driv), :]\n",
    "allTimes = dfDriv['LapTime'].to_numpy()\n",
    "new_allTimes = np.empty_like(allTimes,  dtype='object')\n",
    "for i,elem in enumerate(allTimes):\n",
    "    new_allTimes[i] = minSecDec(elem)\n",
    "print(new_allTimes)"
   ]
  },
  {
   "cell_type": "markdown",
   "metadata": {},
   "source": [
    "#### Split in Morning/Afternoon"
   ]
  },
  {
   "cell_type": "code",
   "execution_count": null,
   "metadata": {},
   "outputs": [],
   "source": [
    "dfMorn = df.loc[(df['Time'] <= 250), :]\n",
    "dfAfter = df.loc[(df['Time'] > 250), :]"
   ]
  },
  {
   "cell_type": "code",
   "execution_count": null,
   "metadata": {},
   "outputs": [],
   "source": [
    "times = df['LapTime'].to_numpy()\n",
    "# minTime = np.nanmin(times)\n",
    "def returnQualy_RaceLaps(times: np.array, mode: str = 'tt', minTime = 0):\n",
    "    qualyLaps = []\n",
    "    qualyIndeces = []\n",
    "    raceLaps = []\n",
    "    raceIndices = []\n",
    "    minTime = np.nanmin(times)\n",
    "    qualyTop = (minTime * 103)/100\n",
    "    raceTop = (minTime * 110)/100\n",
    "    for t,time in enumerate(times):\n",
    "        if time != np.nan:\n",
    "            if time <= qualyTop:\n",
    "                qualyLaps.append(time)\n",
    "                qualyIndeces.append(t)\n",
    "            elif time <= raceTop:\n",
    "                raceLaps.append(time)\n",
    "                raceIndices.append(t)\n",
    "\n",
    "    if mode == 'tt': return np.array(qualyLaps), qualyIndeces, np.array(raceLaps), raceIndices\n",
    "    else: return np.array(qualyLaps), np.array(raceLaps)\n",
    "\n"
   ]
  },
  {
   "cell_type": "code",
   "execution_count": null,
   "metadata": {},
   "outputs": [],
   "source": [
    "drivers = ['Max VERSTAPPEN', 'Carlos SAINZ', 'George RUSSELL', 'Felipe DRUGOVICH', 'ZHOU Guanyu']\n",
    "# drivers = dfMorn['Driver'].unique()\n",
    "colors  = multidata.f1_teams(drivers, year, 'Default', 'Default').color\n",
    "for d,driv in enumerate(drivers):\n",
    "    dfDriv = dfMorn.loc[(df['Driver'] == driv), :]\n",
    "    allTimes = dfDriv['LapTime'].to_numpy()\n",
    "    qualyLaps, qualyIndeces, raceLaps, raceIndices = returnQualy_RaceLaps(allTimes)\n",
    "    plt.plot(qualyLaps[:10], linewidth=2 , color = colors[d], label = driv) \n",
    "\n",
    "ax = plt.gca()\n",
    "ax.legend(loc='center left', bbox_to_anchor=(1, 0.5))\n",
    "plt.title('TOP 5 - QUALY PACE FIRST 5 LAPS-MORNING') \n",
    "plt.xlabel(\"Laps\")\n",
    "plt.ylabel(\"Time\")\n",
    "plt.show()\n",
    "\n"
   ]
  },
  {
   "cell_type": "code",
   "execution_count": null,
   "metadata": {},
   "outputs": [],
   "source": [
    "for d,driv in enumerate(drivers):\n",
    "    dfDriv = dfMorn.loc[(df['Driver'] == driv), :]\n",
    "    allTimes = dfDriv['LapTime'].to_numpy()\n",
    "    qualyLaps, qualyIndeces, raceLaps, raceIndices = returnQualy_RaceLaps(allTimes)\n",
    "    plt.plot(raceLaps[:35], linewidth=2 , color = colors[d], label = driv) \n",
    "\n",
    "ax = plt.gca()\n",
    "ax.legend(loc='center left', bbox_to_anchor=(1, 0.5))\n",
    "plt.title('TOP 5 - RACE PACE FIRST 35 LAPS-MORNING') \n",
    "plt.xlabel(\"Laps\")\n",
    "plt.ylabel(\"Time\")\n",
    "plt.show()"
   ]
  },
  {
   "cell_type": "code",
   "execution_count": null,
   "metadata": {},
   "outputs": [],
   "source": [
    "drivers = ['Max VERSTAPPEN', 'Charles LECLERC', 'Lewis HAMILTON', 'Fernando ALONSO', 'Valtteri BOTTAS']\n",
    "# drivers = dfAfter['Driver'].unique()\n",
    "colors  = multidata.f1_teams(drivers, year, 'Default', 'Default').color\n",
    "for d,driv in enumerate(drivers):\n",
    "    dfDriv = dfAfter.loc[(df['Driver'] == driv), :]\n",
    "    allTimes = dfDriv['LapTime'].to_numpy()\n",
    "    qualyLaps, qualyIndeces, raceLaps, raceIndices = returnQualy_RaceLaps(allTimes)\n",
    "    plt.plot(qualyLaps[:10], linewidth=2 , color = colors[d], label = driv) \n",
    "\n",
    "ax = plt.gca()\n",
    "ax.legend(loc='center left', bbox_to_anchor=(1, 0.5))\n",
    "plt.title('TOP 5 - QUALY PACE FIRST 5 LAPS-AFTERNOON') \n",
    "plt.xlabel(\"Laps\")\n",
    "plt.ylabel(\"Time\")\n",
    "plt.show()"
   ]
  },
  {
   "cell_type": "code",
   "execution_count": null,
   "metadata": {},
   "outputs": [],
   "source": [
    "for d,driv in enumerate(drivers):\n",
    "    dfDriv = dfAfter.loc[(df['Driver'] == driv), :]\n",
    "    allTimes = dfDriv['LapTime'].to_numpy()\n",
    "    qualyLaps, qualyIndeces, raceLaps, raceIndices = returnQualy_RaceLaps(allTimes)\n",
    "    plt.plot(raceLaps[:40], linewidth=2 , color = colors[d], label = driv) \n",
    "\n",
    "ax = plt.gca()\n",
    "ax.legend(loc='center left', bbox_to_anchor=(1, 0.5))\n",
    "plt.title('TOP 5 - RACE PACE FIRST 35 LAPS-AFTERNOON') \n",
    "plt.xlabel(\"Laps\")\n",
    "plt.ylabel(\"Time\")\n",
    "plt.show()"
   ]
  }
 ],
 "metadata": {
  "kernelspec": {
   "display_name": "Python 3.10.10 64-bit (microsoft store)",
   "language": "python",
   "name": "python3"
  },
  "language_info": {
   "codemirror_mode": {
    "name": "ipython",
    "version": 3
   },
   "file_extension": ".py",
   "mimetype": "text/x-python",
   "name": "python",
   "nbconvert_exporter": "python",
   "pygments_lexer": "ipython3",
   "version": "3.10.10"
  },
  "orig_nbformat": 4,
  "vscode": {
   "interpreter": {
    "hash": "0bd566559a8880e7272aad6319f1a0014c5dfadaf9b377e9b51e0ae3382edc81"
   }
  }
 },
 "nbformat": 4,
 "nbformat_minor": 2
}
