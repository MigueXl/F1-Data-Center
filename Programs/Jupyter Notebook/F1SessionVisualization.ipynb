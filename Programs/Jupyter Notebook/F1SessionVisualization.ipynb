{
 "cells": [
  {
   "cell_type": "markdown",
   "metadata": {},
   "source": [
    "### __LIBRARIES IMPORTATION__"
   ]
  },
  {
   "cell_type": "code",
   "execution_count": null,
   "metadata": {},
   "outputs": [],
   "source": [
    "import matplotlib.pyplot as plt\n",
    "import matplotlib as mpl\n",
    "from matplotlib.collections import LineCollection\n",
    "import numpy as np\n",
    "import pandas as pd\n",
    "import os\n",
    "\n",
    "import sys\n",
    "path = \"/Users/migue/Documents/F1 Data Center/F1-Data-Center/Programs/Python/\"\n",
    "sys.path.append(path)\n",
    "import multidata\n",
    "import gp_txt"
   ]
  },
  {
   "cell_type": "markdown",
   "metadata": {},
   "source": [
    "### __GENERAL DATA__"
   ]
  },
  {
   "cell_type": "code",
   "execution_count": null,
   "metadata": {},
   "outputs": [],
   "source": [
    "year = 2023\n",
    "grand_prix = 'Bahrein'\n",
    "sesion = \"fp1\"\n",
    "\n",
    "path = \"/Users/migue/Documents/F1 Data Center/\"+str(year)+\"/\"+grand_prix+\"_\"+str(year)\n",
    "os.chdir(path)"
   ]
  },
  {
   "cell_type": "markdown",
   "metadata": {},
   "source": [
    "#### __STEP 1:__ Data Extraction"
   ]
  },
  {
   "cell_type": "code",
   "execution_count": null,
   "metadata": {},
   "outputs": [],
   "source": [
    "sesiones = []\n",
    "p_sesion = [\"fp1.txt\",\"fp2.txt\",\"fp3.txt\",\"quali.txt\",\"race.txt\"]\n",
    "sesIndex = p_sesion.index(sesion+'.txt')\n",
    "\n",
    "for i in range(len(p_sesion)):\n",
    "    path = \"/Users/migue/Documents/F1 Data Center/\"+str(year)+\"/\"+grand_prix+\"_\"+str(year)+\"/\"+p_sesion[i]\n",
    "    if os.path.exists(path):\n",
    "        sesiones.append(p_sesion[i])\n",
    "    else:\n",
    "        sesiones.append(\"\")\n",
    "\n",
    "#Generate all data availble from sesiones\n",
    "datos = gp_txt.gp(sesiones, grand_prix, True)\n",
    "\n",
    "drivers = datos.lista[sesIndex + len(p_sesion)]\n",
    "times = datos.definitivo[sesIndex]"
   ]
  },
  {
   "cell_type": "markdown",
   "metadata": {},
   "source": [
    "#### __STEP 2:__ Preprocessing"
   ]
  },
  {
   "cell_type": "code",
   "execution_count": null,
   "metadata": {},
   "outputs": [],
   "source": [
    "def get_sec(lista):\n",
    "    \"\"\"Convert x:yy:zzz to miliseconds\"\"\"\n",
    "    sec_list = []\n",
    "    if len(lista) > 0:\n",
    "        if lista[0] != 0:\n",
    "            for i in range(len(lista)):\n",
    "                suma = 0\n",
    "                mins = int(lista[i][0:1])*60*1000\n",
    "                sec = int(lista[i][2:4])*1000\n",
    "                mil = int(lista[i][5:8])\n",
    "                suma = mins + sec + mil\n",
    "                sec_list.append(suma)\n",
    "        else:\n",
    "            sec_list.append(0)\n",
    "    else:\n",
    "        sec_list.append(0)\n",
    "        \n",
    "    return(sec_list)\n",
    "\n",
    "nptimes = np.empty_like(np.array(times, dtype=object))\n",
    "for dindex, dtime in enumerate(times):\n",
    "    nptimes[dindex] = np.array(get_sec(dtime))"
   ]
  },
  {
   "cell_type": "code",
   "execution_count": null,
   "metadata": {},
   "outputs": [],
   "source": [
    "def returnQualy_RaceLaps(times: np.array, mode: str = 'tt', minTime = 0):\n",
    "    qualyLaps = []\n",
    "    qualyIndeces = []\n",
    "    raceLaps = []\n",
    "    raceIndices = []\n",
    "    minTime = np.nanmin(times)\n",
    "    if minTime == 0:\n",
    "        return np.array(np.nan), qualyIndeces, np.array(np.nan), raceIndices\n",
    "    qualyTop = (minTime * 102)/100\n",
    "    raceTop = (minTime * 110)/100\n",
    "    for t,time in enumerate(times):\n",
    "        if time != np.nan:\n",
    "            if time <= qualyTop:\n",
    "                qualyLaps.append(time)\n",
    "                qualyIndeces.append(t)\n",
    "            elif time <= raceTop:\n",
    "                raceLaps.append(time)\n",
    "                raceIndices.append(t)\n",
    "\n",
    "    if mode == 'tt': return np.array(qualyLaps), qualyIndeces, np.array(raceLaps), raceIndices\n",
    "    else: return np.array(qualyLaps), np.array(raceLaps)"
   ]
  },
  {
   "cell_type": "markdown",
   "metadata": {},
   "source": [
    "#### __STEP 3:__ Plot"
   ]
  },
  {
   "cell_type": "code",
   "execution_count": null,
   "metadata": {},
   "outputs": [],
   "source": [
    "driversRed = ['Max VERSTAPPEN', 'Kevin MAGNUSSEN', 'Nico HULKENBERG', 'Sergio PEREZ', 'Carlos SAINZ', 'Fernando ALONSO']\n",
    "# drivers = dfMorn['Driver'].unique()\n",
    "colors  = multidata.f1_teams(driversRed, year, 'Default', 'Default').color\n",
    "\n",
    "alreadyPlot = []\n",
    "for d,driv in enumerate(driversRed):\n",
    "    allTimes = nptimes[drivers.index(driv)]\n",
    "    qualyLaps, raceLaps = returnQualy_RaceLaps(allTimes, mode = 'p')\n",
    "    if colors[d] not in alreadyPlot:\n",
    "        plt.plot(raceLaps, linewidth=2 , color = colors[d], label = driv) \n",
    "        alreadyPlot.append(colors[d])\n",
    "    else:\n",
    "        plt.plot(raceLaps, linewidth=2 , linestyle = 'dashdot', color = colors[d], label = driv) \n",
    "\n",
    "ax = plt.gca()\n",
    "ax.legend(loc='center left', bbox_to_anchor=(1, 0.5))\n",
    "plt.title('TOP 5 - QUALY PACE FIRST 5 LAPS-MORNING') \n",
    "plt.xlabel(\"Laps\")\n",
    "plt.ylabel(\"Time\")\n",
    "plt.show()"
   ]
  },
  {
   "cell_type": "markdown",
   "metadata": {},
   "source": [
    "#### __STEP 4:__ Dash"
   ]
  },
  {
   "cell_type": "code",
   "execution_count": null,
   "metadata": {},
   "outputs": [],
   "source": [
    "import pandas as pd\n",
    "\n",
    "# Obtener los tiempos de clasificación de los conductores\n",
    "colors  = multidata.f1_teams(drivers, year, 'Default', 'Default').color\n",
    "\n",
    "alreadyPlot = []\n",
    "dataQualy = []\n",
    "dataRace = []\n",
    "for d,driv in enumerate(drivers):\n",
    "    allTimes = nptimes[d]\n",
    "    qualyLaps, raceLaps = returnQualy_RaceLaps(allTimes, mode = 'p')\n",
    "    if colors[d] not in alreadyPlot:\n",
    "        for indexLap,l in enumerate(qualyLaps):\n",
    "            dataQualy.append({'Driver': driv, 'Laps': indexLap + 1, 'Time': l, 'Color': colors[d], 'LineDash': None})\n",
    "        for indexLap,l in enumerate(raceLaps):\n",
    "            dataRace.append({'Driver': driv, 'Laps': indexLap + 1, 'Time': l, 'Color': colors[d], 'LineDash': None})\n",
    "    else:\n",
    "        for indexLap,l in enumerate(qualyLaps):\n",
    "            dataQualy.append({'Driver': driv, 'Laps': indexLap + 1, 'Time': l, 'Color': colors[d], 'LineDash': 'dashdot'})\n",
    "        for indexLap,l in enumerate(raceLaps):\n",
    "            dataRace.append({'Driver': driv, 'Laps': indexLap + 1, 'Time': l, 'Color': colors[d], 'LineDash': 'dashdot'})\n",
    "\n",
    "dfQualy = pd.DataFrame(dataQualy)\n",
    "dfRace = pd.DataFrame(dataRace)\n",
    "\n",
    "print(dfQualy.head())\n",
    "print(dfRace.head())"
   ]
  },
  {
   "cell_type": "code",
   "execution_count": null,
   "metadata": {},
   "outputs": [],
   "source": [
    "import plotly.express as px\n",
    "import pandas as pd\n",
    "from  dash import dcc, html\n",
    "from jupyter_dash import JupyterDash\n",
    "\n",
    "\n",
    "# Crear la aplicación Dash\n",
    "app = JupyterDash(__name__)\n",
    "\n",
    "# Crear el gráfico\n",
    "fig = px.line(df, x=\"year\", y=\"lifeExp\", color='country')\n",
    "\n",
    "# Configurar el diseño del gráfico\n",
    "fig.update_layout(title='Life Expectancy in Asia',\n",
    "                   xaxis_title='Year',\n",
    "                   yaxis_title='Life Expectancy')\n",
    "\n",
    "# Crear el diseño de la aplicación Dash\n",
    "app.layout = html.Div(children=[\n",
    "    html.H1(children='Line Plot'),\n",
    "    dcc.Graph(\n",
    "        id='example-graph',\n",
    "        figure=fig\n",
    "    )\n",
    "])\n",
    "\n",
    "# Ejecutar la aplicación\n",
    "if __name__ == '__main__':\n",
    "    app.run_server()"
   ]
  }
 ],
 "metadata": {
  "kernelspec": {
   "display_name": "Python 3.10.6 ('ML')",
   "language": "python",
   "name": "python3"
  },
  "language_info": {
   "codemirror_mode": {
    "name": "ipython",
    "version": 3
   },
   "file_extension": ".py",
   "mimetype": "text/x-python",
   "name": "python",
   "nbconvert_exporter": "python",
   "pygments_lexer": "ipython3",
   "version": "3.10.6"
  },
  "orig_nbformat": 4,
  "vscode": {
   "interpreter": {
    "hash": "381ff88311bfa90205062e08049120f59c6e3b2eedf7e19586806884b20be455"
   }
  }
 },
 "nbformat": 4,
 "nbformat_minor": 2
}
