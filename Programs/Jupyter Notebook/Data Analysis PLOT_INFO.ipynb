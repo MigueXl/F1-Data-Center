{
 "cells": [
  {
   "cell_type": "markdown",
   "metadata": {},
   "source": [
    "### __LIBRARIES__"
   ]
  },
  {
   "cell_type": "code",
   "execution_count": null,
   "metadata": {},
   "outputs": [],
   "source": [
    "import numpy as np\n",
    "import os\n",
    "import pandas as pd\n",
    "import sys\n",
    "\n",
    "path = \"/Users/migue/Documents/F1 Data Center/F1-Data-Center/Programs/Python/\"\n",
    "\n",
    "sys.path.append(path)\n",
    "import multidata\n",
    "\n"
   ]
  },
  {
   "cell_type": "markdown",
   "metadata": {},
   "source": [
    "__DATA LOADING__"
   ]
  },
  {
   "cell_type": "code",
   "execution_count": null,
   "metadata": {},
   "outputs": [],
   "source": [
    "path = \"/Users/migue/Documents/F1 Data Center/Datos/\"\n",
    "os.chdir(path)\n",
    "\n",
    "df = pd.read_csv('data.csv', sep = ';', encoding = \"ISO-8859-1\")\n",
    "\n",
    "display(df)\n",
    "\n",
    "colNames: list = df.columns.values.tolist() #Column names\n",
    "print(colNames)"
   ]
  },
  {
   "cell_type": "markdown",
   "metadata": {},
   "source": [
    "__YEARS SET__"
   ]
  },
  {
   "cell_type": "code",
   "execution_count": null,
   "metadata": {},
   "outputs": [],
   "source": [
    "year = 2019\n",
    "\n",
    "#Data of the corresponding day #TODO IN CASE OF ALL YEARS\n",
    "if year != 'all':\n",
    "    index_year = df['Year'] == year\n",
    "    df_Year = df[index_year]\n",
    "    display(df_Year)\n",
    "else:\n",
    "    df_Year = df\n",
    "    display(df_Year)\n"
   ]
  },
  {
   "cell_type": "markdown",
   "metadata": {},
   "source": [
    "__POINTS BASED ON FREE PRACTICE AND QUALIFYING (BY YEAR)__ "
   ]
  },
  {
   "cell_type": "code",
   "execution_count": null,
   "metadata": {},
   "outputs": [],
   "source": [
    "drivers = list(df_Year[\"Driver\"].unique()) #Drivers participating in the corresponding time period\n",
    "n_gps = list(df_Year[\"GP\"].unique()) #GPs during the corresponding time period\n",
    "\n",
    "colors = multidata.f1_teams(drivers, year, 'Default', 'Default').color  #Colors of each team deppending \n",
    "\n",
    "#Times in each GP and each driver and the corresponding points obtained during that period\n",
    "fp1_times = np.zeros((len(n_gps),len(drivers)))\n",
    "fp1_points = np.zeros((len(n_gps),len(drivers)))\n",
    "\n",
    "fp2_times = np.zeros((len(n_gps),len(drivers)))\n",
    "fp2_points = np.zeros((len(n_gps),len(drivers)))\n",
    "\n",
    "fp3_times = np.zeros((len(n_gps),len(drivers)))\n",
    "fp3_points = np.zeros((len(n_gps),len(drivers)))\n",
    "\n",
    "quali_times = np.zeros((len(n_gps),len(drivers)))\n",
    "quali_points = np.zeros((len(n_gps),len(drivers)))\n",
    "\n",
    "race_pos = np.zeros((len(n_gps),len(drivers)))\n",
    "race_points = np.zeros((len(n_gps),len(drivers)))\n",
    "\n",
    "yearData = df_Year.to_numpy()\n",
    "driver_name = colNames.index(\"Driver\")\n",
    "gp_index = colNames.index(\"GP\")\n",
    "\n",
    "fp1 = colNames.index(\"fp1_fastest_lap\")\n",
    "fp2 = colNames.index(\"fp2_fastest_lap\")\n",
    "fp3 = colNames.index(\"fp3_fastest_lap\")\n",
    "quali = colNames.index(\"quali_fastest_lap\")\n",
    "race = colNames.index(\"race_Result\")\n",
    "\n",
    "\n",
    "for row in yearData:\n",
    "    gpName = row[gp_index] #GP on this row\n",
    "    driv = row[driver_name] #Driver on this row\n",
    "\n",
    "    i = n_gps.index(gpName)\n",
    "    j = drivers.index(driv)\n",
    "\n",
    "    fp1_times[i,j] = row[fp1]\n",
    "    fp2_times[i,j] = row[fp2]\n",
    "    fp3_times[i,j] = row[fp3]\n",
    "    quali_times[i,j] = row[quali]\n",
    "    if row[race] == 'DNF': race_pos[i,j] = 0\n",
    "    else:  race_pos[i,j] = row[race]\n"
   ]
  },
  {
   "cell_type": "markdown",
   "metadata": {},
   "source": [
    "Compute the order of the drivers in each GP"
   ]
  },
  {
   "cell_type": "code",
   "execution_count": null,
   "metadata": {},
   "outputs": [],
   "source": [
    "points = [25,18,15,12,10,8,6,4,2,1,0,0,0,0,0,0,0,0,0,0]\n",
    "\n",
    "sesion = [fp1_times.copy(),fp2_times.copy(),fp3_times.copy(),quali_times.copy(), race_pos.copy()] #Include every Sesion time (4, len(gPs), len(drivers))\n",
    "ses_points = [fp1_points.copy(),fp2_points.copy(),fp3_points.copy(),quali_points.copy(), race_points.copy()] #Include every Sesion points (4, len(gPs), len(drivers))\n",
    "\n",
    "for ses_index, s in enumerate(sesion):\n",
    "    for circ_index, circuit in enumerate(s):\n",
    "        p = -1\n",
    "        if sum(circuit) > 10:\n",
    "            while circuit[np.argmin(circuit)] < sys.maxsize:\n",
    "                minim = np.argmin(circuit)\n",
    "                if circuit[minim] == 0:\n",
    "                    circuit[minim] = sys.maxsize\n",
    "                else:\n",
    "                    p += 1\n",
    "                    minim =np.argmin(circuit)\n",
    "                    circuit[minim] = sys.maxsize\n",
    "                    ses_points[ses_index][circ_index,minim] = points[p]\n",
    "\n",
    "print(ses_points[4][:,drivers.index('Valtteri BOTTAS')])"
   ]
  },
  {
   "cell_type": "markdown",
   "metadata": {},
   "source": [
    "__Total Points__ "
   ]
  },
  {
   "cell_type": "code",
   "execution_count": null,
   "metadata": {},
   "outputs": [],
   "source": [
    "titles = ['FP1 TOTAL POINTS', 'FP2 TOTAL POINTS','FP3 TOTAL POINTS', 'QUALIFYING TOTAL POINTS', 'RACE TOTAL POINTS']\n",
    "totalPoints = np.zeros((len(ses_points),len(drivers))) #Reduce the total to (4, len(driveres)) matrix which incluedes the total amount of points scored by each driver in each Sesion\n",
    "\n",
    "for ses_index, s in enumerate(ses_points):\n",
    "    for driv_index, driver in enumerate(drivers):\n",
    "        totalPoints[ses_index,driv_index] = sum(s[circ_index,driv_index] for circ_index, circuit in enumerate(s))\n"
   ]
  },
  {
   "cell_type": "markdown",
   "metadata": {},
   "source": [
    "__Year Progression__"
   ]
  },
  {
   "cell_type": "code",
   "execution_count": null,
   "metadata": {},
   "outputs": [],
   "source": [
    "yearProgessionOK = np.zeros((len(ses_points),len(drivers),len(n_gps))) #Each sesion, and evolution of each driver points per race \n",
    "\n",
    "for ses_index, s in enumerate(ses_points):\n",
    "    for gpInd, gp in enumerate(n_gps):\n",
    "        for driv_index, driver in enumerate(drivers):\n",
    "            totalUntilGP = sum(s[circ_index,driv_index] for circ_index in range(gpInd+1))\n",
    "            yearProgessionOK[ses_index,driv_index, gpInd] = totalUntilGP"
   ]
  },
  {
   "cell_type": "markdown",
   "metadata": {},
   "source": [
    "__Data Organization__"
   ]
  },
  {
   "cell_type": "code",
   "execution_count": null,
   "metadata": {},
   "outputs": [],
   "source": [
    "def orderLists(points: np.array, driverName: list, color: list):\n",
    "    '''Necessary to plot, orders the list in function on the first introduced list. LISTS MUST HAVE THE SAME SIZE'''\n",
    "    newPoints, newDriv, newColor = [], [], []\n",
    "    while points[np.argmax(points)] >= 0:\n",
    "        maxim =  np.argmax(points)\n",
    "\n",
    "        newPoints.append(points[maxim])\n",
    "        newDriv.append(driverName[maxim])\n",
    "        newColor.append(color[maxim])\n",
    "            \n",
    "        points[maxim] = -1\n",
    "\n",
    "    return newPoints, newDriv, newColor"
   ]
  },
  {
   "cell_type": "markdown",
   "metadata": {},
   "source": [
    "__PLOTS__"
   ]
  },
  {
   "cell_type": "code",
   "execution_count": null,
   "metadata": {},
   "outputs": [],
   "source": [
    "import matplotlib.pyplot as plt\n",
    "\n",
    "def driv_min(drivers):\n",
    "    driv_min = []\n",
    "    for d in drivers:\n",
    "        surname = d.split()[-1]\n",
    "        if surname[0:3] not in driv_min:\n",
    "            driv_min.append(surname[0:3].upper())\n",
    "        else:\n",
    "            cond = True\n",
    "            while cond:\n",
    "                x = 4\n",
    "                if surname[0:x] not in driv_min:\n",
    "                    cond = False\n",
    "                    driv_min.append(surname[0:3].upper())\n",
    "                else:\n",
    "                    x += 1\n",
    "\n",
    "    return driv_min\n",
    "\n",
    "def addlabels(y, colors):\n",
    "    for i, v in enumerate(sorted(y, reverse=True)):\n",
    "        plt.text(v+0.2, i, str(int(v)), color='#090909', va=\"center\")\n",
    "\n",
    "drivers_dim = driv_min(drivers.copy())\n",
    "for s_index,sesion in enumerate(totalPoints):\n",
    "    ses,drivers_dimPlot,colorTeam = orderLists(sesion.copy()[:22],drivers_dim.copy()[:22],colors.copy()[:22])\n",
    "    fig = plt.figure()\n",
    "    ax = fig.add_axes([0,0,1,1]) \n",
    "\n",
    "    ax.barh(drivers_dimPlot,ses,color = colorTeam)\n",
    "    addlabels(ses, colorTeam)\n",
    "    \n",
    "    ax.set_facecolor('#DFF0FF')\n",
    "\n",
    "    plt.title(titles[s_index]) \n",
    "    plt.xlabel(\"Points\")\n",
    "    plt.ylabel(\"Drivers\")\n",
    "\n",
    "    plt.gca().invert_yaxis()\n",
    "    plt.xticks(range(0, int(ses[0]), 50))\n",
    "    plt.show()"
   ]
  },
  {
   "cell_type": "markdown",
   "metadata": {},
   "source": [
    "__Year Progression Plot__"
   ]
  },
  {
   "cell_type": "code",
   "execution_count": null,
   "metadata": {},
   "outputs": [],
   "source": [
    "def maxValuePlot(sesion: list):\n",
    "    tot = [d[-1] for d in sesion]\n",
    "    return max(tot)\n",
    "\n",
    "def orderByTeam(yearProgessionOK: np.array, colorsPlot: list, driversPlot: list):\n",
    "    yearProgession = []\n",
    "    colors = []\n",
    "    drivers = []\n",
    "\n",
    "    yearProgessionTeams = []\n",
    "    colorsTeams = []\n",
    "    teams = []\n",
    "    for s_index,sesion in enumerate(yearProgessionOK):\n",
    "        ses = []\n",
    "        col = []\n",
    "        drivList = []\n",
    "\n",
    "        sesTeams = []\n",
    "        colTeams = []\n",
    "        teamsList = []        \n",
    "\n",
    "       \n",
    "        teamsName = multidata.f1_teams(driversPlot[s_index], year, 'Default', 'Default').equipos\n",
    "        teamsCol = list(set(colorsPlot[s_index]))\n",
    "        \n",
    "        points = [driver[-1] for driv_index, driver in enumerate(sesion)]\n",
    "        teamIndexes = []\n",
    "        teamPoints = []\n",
    "\n",
    "        for t in teamsCol:\n",
    "            teamIndexes.append([i for i in range(len(colorsPlot[s_index])) if colorsPlot[s_index][i] == t])\n",
    "            teamPoints.append(sum(points[p] for p in range(len(points)) if colorsPlot[s_index][p] == t))\n",
    "        \n",
    "        orderedIndex = []\n",
    "        originalLen = len(teamPoints)\n",
    "        while len(orderedIndex) != originalLen:\n",
    "            index = teamPoints.index(max(teamPoints))\n",
    "            orderedIndex.append(teamIndexes[index])\n",
    "            teamPoints[index] = -1\n",
    "\n",
    "        for t, teamIndexArray in enumerate(orderedIndex):\n",
    "            total = np.zeros(sesion[0].shape) #MUST BE THE TOTAL NUMBER OF RACES DURING A YEAR\n",
    "            for d in teamIndexArray:\n",
    "                #DRIVERS\n",
    "                ses.append(sesion[d])\n",
    "                col.append(colorsPlot[s_index][d])\n",
    "                drivList.append(driversPlot[s_index][d])\n",
    "\n",
    "                #TEAMS TOTAL\n",
    "                total += sesion[d]\n",
    "\n",
    "            #TEAMS\n",
    "            sesTeams.append(total)\n",
    "            colTeams.append(colorsPlot[s_index][d])\n",
    "            teamsList.append(teamsName[d])\n",
    "\n",
    "        yearProgession.append(ses)\n",
    "        colors.append(col)\n",
    "        drivers.append(drivList)\n",
    "\n",
    "        yearProgessionTeams.append(sesTeams)\n",
    "        colorsTeams.append(colTeams)\n",
    "        teams.append(teamsList)\n",
    "\n",
    "    return yearProgession, colors, drivers, yearProgessionTeams, colorsTeams, teams\n",
    "\n",
    "#REMOVE 0s drivers for a better visibility\n",
    "colorsPlot = []\n",
    "driversPlot = []\n",
    "\n",
    "yearProgession = []\n",
    "for s_index,sesion in enumerate(yearProgessionOK):\n",
    "    ses = []\n",
    "    col = []\n",
    "    drivList = []\n",
    "    for driv_index, driver in enumerate(sesion):\n",
    "        if driver[-1] != 0: # 0 in the last GP\n",
    "            ses.append(driver)\n",
    "            col.append(colors[driv_index])\n",
    "            drivList.append(drivers[driv_index])\n",
    "\n",
    "    yearProgession.append(ses)\n",
    "    colorsPlot.append(col)\n",
    "    driversPlot.append(drivList)\n",
    "\n",
    "yearProgession, colorsPlot, driversPlot, yearProgessionTeams, colorsTeams, teams = orderByTeam(yearProgession.copy(), colorsPlot.copy(), driversPlot.copy())\n",
    "\n",
    "\n",
    "x_axes = [i for i in range(len(n_gps))]\n",
    "for s_index,sesion in enumerate(yearProgession):\n",
    "    teams_av = []\n",
    "    teams_driv = multidata.f1_teams(driversPlot[s_index], year, 'Default', 'Default').equipos\n",
    "    drivers_dim = driv_min(driversPlot[s_index].copy())\n",
    "    for driv_index, driver in enumerate(sesion):\n",
    "        if teams_driv[driv_index] not in teams_av:\n",
    "            teams_av.append(teams_driv[driv_index])\n",
    "            plt.plot(x_axes, driver, linewidth=2 , color = colorsPlot[s_index][driv_index], label = drivers_dim[driv_index]) \n",
    "        else:\n",
    "            plt.plot(x_axes, driver, linewidth=2 , linestyle = 'dashdot', color = colorsPlot[s_index][driv_index], label =drivers_dim[driv_index])\n",
    "\n",
    "\n",
    "    \n",
    "    ax = plt.gca()\n",
    "    ax.legend(loc='center left', bbox_to_anchor=(1, 0.5))\n",
    "    ax.set_facecolor('#DFF0FF')\n",
    "    plt.title(titles[s_index]) \n",
    "    plt.xlabel(\"GP\")\n",
    "    plt.ylabel(\"Total Points\")\n",
    "    plt.xticks(range(0, int(len(n_gps)), 1))\n",
    "    plt.yticks(range(0, int(maxValuePlot(sesion) + 25), 25))\n",
    "    plt.show()"
   ]
  },
  {
   "cell_type": "markdown",
   "metadata": {},
   "source": [
    "__Teams Progression Plot__"
   ]
  },
  {
   "cell_type": "code",
   "execution_count": null,
   "metadata": {},
   "outputs": [],
   "source": [
    "x_axes = [i for i in range(len(n_gps))]\n",
    "for s_index,sesion in enumerate(yearProgessionTeams):\n",
    "    # drivers_dim = driv_min(driversPlot[s_index].copy())\n",
    "    for team_index, team in enumerate(sesion):\n",
    "        plt.plot(x_axes, team, linewidth=2 , color = colorsTeams[s_index][team_index], label = teams[s_index][team_index]) \n",
    "    \n",
    "    ax = plt.gca()\n",
    "    ax.legend(loc='center left', bbox_to_anchor=(1, 0.5))\n",
    "    ax.set_facecolor('#DFF0FF')\n",
    "    plt.title(titles[s_index]) \n",
    "    plt.xlabel(\"GP\")\n",
    "    plt.ylabel(\"Total Points\")\n",
    "    plt.xticks(range(0, int(len(n_gps)), 1))\n",
    "    plt.yticks(range(0, int(maxValuePlot(sesion) + 50), 50))\n",
    "    plt.show()"
   ]
  }
 ],
 "metadata": {
  "kernelspec": {
   "display_name": "Python 3.10.8 64-bit (microsoft store)",
   "language": "python",
   "name": "python3"
  },
  "language_info": {
   "codemirror_mode": {
    "name": "ipython",
    "version": 3
   },
   "file_extension": ".py",
   "mimetype": "text/x-python",
   "name": "python",
   "nbconvert_exporter": "python",
   "pygments_lexer": "ipython3",
   "version": "3.10.8"
  },
  "orig_nbformat": 4,
  "vscode": {
   "interpreter": {
    "hash": "0bd566559a8880e7272aad6319f1a0014c5dfadaf9b377e9b51e0ae3382edc81"
   }
  }
 },
 "nbformat": 4,
 "nbformat_minor": 2
}
